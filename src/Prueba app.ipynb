{
 "cells": [
  {
   "cell_type": "code",
   "execution_count": 1,
   "metadata": {},
   "outputs": [],
   "source": [
    "import pandas as pd"
   ]
  },
  {
   "cell_type": "code",
   "execution_count": 85,
   "metadata": {},
   "outputs": [
    {
     "data": {
      "text/html": [
       "<div>\n",
       "<style scoped>\n",
       "    .dataframe tbody tr th:only-of-type {\n",
       "        vertical-align: middle;\n",
       "    }\n",
       "\n",
       "    .dataframe tbody tr th {\n",
       "        vertical-align: top;\n",
       "    }\n",
       "\n",
       "    .dataframe thead th {\n",
       "        text-align: right;\n",
       "    }\n",
       "</style>\n",
       "<table border=\"1\" class=\"dataframe\">\n",
       "  <thead>\n",
       "    <tr style=\"text-align: right;\">\n",
       "      <th></th>\n",
       "      <th>CUT Comuna Origen</th>\n",
       "      <th>Comuna Origen</th>\n",
       "      <th>CUT Provincia Origen</th>\n",
       "      <th>Provincia Origen</th>\n",
       "      <th>CUT Region Origen</th>\n",
       "      <th>Region Origen</th>\n",
       "      <th>CUT Comuna Destino</th>\n",
       "      <th>Comuna Destino</th>\n",
       "      <th>CUT Destino Turistico</th>\n",
       "      <th>Destino Turistico</th>\n",
       "      <th>...</th>\n",
       "      <th>Anio</th>\n",
       "      <th>CUT Mes</th>\n",
       "      <th>Mes</th>\n",
       "      <th>Viajes Ocasionales</th>\n",
       "      <th>CUT Temporada</th>\n",
       "      <th>Temporada</th>\n",
       "      <th>PIB Region Origen</th>\n",
       "      <th>PIB Region Destino</th>\n",
       "      <th>Norte a Sur Origen</th>\n",
       "      <th>Norte a Sur Destino</th>\n",
       "    </tr>\n",
       "  </thead>\n",
       "  <tbody>\n",
       "    <tr>\n",
       "      <th>0</th>\n",
       "      <td>1101</td>\n",
       "      <td>Iquique</td>\n",
       "      <td>11</td>\n",
       "      <td>Iquique</td>\n",
       "      <td>1</td>\n",
       "      <td>Tarapacá</td>\n",
       "      <td>1402</td>\n",
       "      <td>Camiña</td>\n",
       "      <td>0</td>\n",
       "      <td>Camiña</td>\n",
       "      <td>...</td>\n",
       "      <td>2019</td>\n",
       "      <td>1</td>\n",
       "      <td>enero</td>\n",
       "      <td>109</td>\n",
       "      <td>1</td>\n",
       "      <td>Alta</td>\n",
       "      <td>1061.580205</td>\n",
       "      <td>1061.580205</td>\n",
       "      <td>2</td>\n",
       "      <td>2</td>\n",
       "    </tr>\n",
       "    <tr>\n",
       "      <th>1</th>\n",
       "      <td>1101</td>\n",
       "      <td>Iquique</td>\n",
       "      <td>11</td>\n",
       "      <td>Iquique</td>\n",
       "      <td>1</td>\n",
       "      <td>Tarapacá</td>\n",
       "      <td>1403</td>\n",
       "      <td>Colchane</td>\n",
       "      <td>1</td>\n",
       "      <td>Colchane - P.N. Volcán Isluga</td>\n",
       "      <td>...</td>\n",
       "      <td>2019</td>\n",
       "      <td>1</td>\n",
       "      <td>enero</td>\n",
       "      <td>298</td>\n",
       "      <td>1</td>\n",
       "      <td>Alta</td>\n",
       "      <td>1061.580205</td>\n",
       "      <td>1061.580205</td>\n",
       "      <td>2</td>\n",
       "      <td>2</td>\n",
       "    </tr>\n",
       "    <tr>\n",
       "      <th>2</th>\n",
       "      <td>1101</td>\n",
       "      <td>Iquique</td>\n",
       "      <td>11</td>\n",
       "      <td>Iquique</td>\n",
       "      <td>1</td>\n",
       "      <td>Tarapacá</td>\n",
       "      <td>1404</td>\n",
       "      <td>Huara</td>\n",
       "      <td>2</td>\n",
       "      <td>Resto región Tarapacá</td>\n",
       "      <td>...</td>\n",
       "      <td>2019</td>\n",
       "      <td>1</td>\n",
       "      <td>enero</td>\n",
       "      <td>2594</td>\n",
       "      <td>1</td>\n",
       "      <td>Alta</td>\n",
       "      <td>1061.580205</td>\n",
       "      <td>1061.580205</td>\n",
       "      <td>2</td>\n",
       "      <td>2</td>\n",
       "    </tr>\n",
       "    <tr>\n",
       "      <th>3</th>\n",
       "      <td>1101</td>\n",
       "      <td>Iquique</td>\n",
       "      <td>11</td>\n",
       "      <td>Iquique</td>\n",
       "      <td>1</td>\n",
       "      <td>Tarapacá</td>\n",
       "      <td>1405</td>\n",
       "      <td>Pica</td>\n",
       "      <td>3</td>\n",
       "      <td>Pica</td>\n",
       "      <td>...</td>\n",
       "      <td>2019</td>\n",
       "      <td>1</td>\n",
       "      <td>enero</td>\n",
       "      <td>4138</td>\n",
       "      <td>1</td>\n",
       "      <td>Alta</td>\n",
       "      <td>1061.580205</td>\n",
       "      <td>1061.580205</td>\n",
       "      <td>2</td>\n",
       "      <td>2</td>\n",
       "    </tr>\n",
       "    <tr>\n",
       "      <th>4</th>\n",
       "      <td>1101</td>\n",
       "      <td>Iquique</td>\n",
       "      <td>11</td>\n",
       "      <td>Iquique</td>\n",
       "      <td>1</td>\n",
       "      <td>Tarapacá</td>\n",
       "      <td>2101</td>\n",
       "      <td>Antofagasta</td>\n",
       "      <td>4</td>\n",
       "      <td>Antofagasta</td>\n",
       "      <td>...</td>\n",
       "      <td>2019</td>\n",
       "      <td>1</td>\n",
       "      <td>enero</td>\n",
       "      <td>2071</td>\n",
       "      <td>1</td>\n",
       "      <td>Alta</td>\n",
       "      <td>1061.580205</td>\n",
       "      <td>3724.530431</td>\n",
       "      <td>2</td>\n",
       "      <td>3</td>\n",
       "    </tr>\n",
       "    <tr>\n",
       "      <th>...</th>\n",
       "      <td>...</td>\n",
       "      <td>...</td>\n",
       "      <td>...</td>\n",
       "      <td>...</td>\n",
       "      <td>...</td>\n",
       "      <td>...</td>\n",
       "      <td>...</td>\n",
       "      <td>...</td>\n",
       "      <td>...</td>\n",
       "      <td>...</td>\n",
       "      <td>...</td>\n",
       "      <td>...</td>\n",
       "      <td>...</td>\n",
       "      <td>...</td>\n",
       "      <td>...</td>\n",
       "      <td>...</td>\n",
       "      <td>...</td>\n",
       "      <td>...</td>\n",
       "      <td>...</td>\n",
       "      <td>...</td>\n",
       "      <td>...</td>\n",
       "    </tr>\n",
       "    <tr>\n",
       "      <th>2952619</th>\n",
       "      <td>16305</td>\n",
       "      <td>San Nicolás</td>\n",
       "      <td>163</td>\n",
       "      <td>Punilla</td>\n",
       "      <td>16</td>\n",
       "      <td>Ñuble</td>\n",
       "      <td>16203</td>\n",
       "      <td>Coelemu</td>\n",
       "      <td>87</td>\n",
       "      <td>Valle del Itata</td>\n",
       "      <td>...</td>\n",
       "      <td>2023</td>\n",
       "      <td>12</td>\n",
       "      <td>diciembre</td>\n",
       "      <td>17</td>\n",
       "      <td>1</td>\n",
       "      <td>Alta</td>\n",
       "      <td>833.567298</td>\n",
       "      <td>833.567298</td>\n",
       "      <td>10</td>\n",
       "      <td>10</td>\n",
       "    </tr>\n",
       "    <tr>\n",
       "      <th>2952620</th>\n",
       "      <td>16305</td>\n",
       "      <td>San Nicolás</td>\n",
       "      <td>163</td>\n",
       "      <td>Punilla</td>\n",
       "      <td>16</td>\n",
       "      <td>Ñuble</td>\n",
       "      <td>16207</td>\n",
       "      <td>Treguaco</td>\n",
       "      <td>83</td>\n",
       "      <td>Resto región Ñuble</td>\n",
       "      <td>...</td>\n",
       "      <td>2023</td>\n",
       "      <td>12</td>\n",
       "      <td>diciembre</td>\n",
       "      <td>44</td>\n",
       "      <td>1</td>\n",
       "      <td>Alta</td>\n",
       "      <td>833.567298</td>\n",
       "      <td>833.567298</td>\n",
       "      <td>10</td>\n",
       "      <td>10</td>\n",
       "    </tr>\n",
       "    <tr>\n",
       "      <th>2952621</th>\n",
       "      <td>16305</td>\n",
       "      <td>San Nicolás</td>\n",
       "      <td>163</td>\n",
       "      <td>Punilla</td>\n",
       "      <td>16</td>\n",
       "      <td>Ñuble</td>\n",
       "      <td>16302</td>\n",
       "      <td>Coihueco</td>\n",
       "      <td>83</td>\n",
       "      <td>Resto región Ñuble</td>\n",
       "      <td>...</td>\n",
       "      <td>2023</td>\n",
       "      <td>12</td>\n",
       "      <td>diciembre</td>\n",
       "      <td>108</td>\n",
       "      <td>1</td>\n",
       "      <td>Alta</td>\n",
       "      <td>833.567298</td>\n",
       "      <td>833.567298</td>\n",
       "      <td>10</td>\n",
       "      <td>10</td>\n",
       "    </tr>\n",
       "    <tr>\n",
       "      <th>2952622</th>\n",
       "      <td>16305</td>\n",
       "      <td>San Nicolás</td>\n",
       "      <td>163</td>\n",
       "      <td>Punilla</td>\n",
       "      <td>16</td>\n",
       "      <td>Ñuble</td>\n",
       "      <td>16303</td>\n",
       "      <td>Ñiquén</td>\n",
       "      <td>83</td>\n",
       "      <td>Resto región Ñuble</td>\n",
       "      <td>...</td>\n",
       "      <td>2023</td>\n",
       "      <td>12</td>\n",
       "      <td>diciembre</td>\n",
       "      <td>47</td>\n",
       "      <td>1</td>\n",
       "      <td>Alta</td>\n",
       "      <td>833.567298</td>\n",
       "      <td>833.567298</td>\n",
       "      <td>10</td>\n",
       "      <td>10</td>\n",
       "    </tr>\n",
       "    <tr>\n",
       "      <th>2952623</th>\n",
       "      <td>16305</td>\n",
       "      <td>San Nicolás</td>\n",
       "      <td>163</td>\n",
       "      <td>Punilla</td>\n",
       "      <td>16</td>\n",
       "      <td>Ñuble</td>\n",
       "      <td>16304</td>\n",
       "      <td>San Fabián</td>\n",
       "      <td>92</td>\n",
       "      <td>San Fabián</td>\n",
       "      <td>...</td>\n",
       "      <td>2023</td>\n",
       "      <td>12</td>\n",
       "      <td>diciembre</td>\n",
       "      <td>26</td>\n",
       "      <td>1</td>\n",
       "      <td>Alta</td>\n",
       "      <td>833.567298</td>\n",
       "      <td>833.567298</td>\n",
       "      <td>10</td>\n",
       "      <td>10</td>\n",
       "    </tr>\n",
       "  </tbody>\n",
       "</table>\n",
       "<p>2952624 rows × 24 columns</p>\n",
       "</div>"
      ],
      "text/plain": [
       "         CUT Comuna Origen Comuna Origen  CUT Provincia Origen  \\\n",
       "0                     1101       Iquique                    11   \n",
       "1                     1101       Iquique                    11   \n",
       "2                     1101       Iquique                    11   \n",
       "3                     1101       Iquique                    11   \n",
       "4                     1101       Iquique                    11   \n",
       "...                    ...           ...                   ...   \n",
       "2952619              16305   San Nicolás                   163   \n",
       "2952620              16305   San Nicolás                   163   \n",
       "2952621              16305   San Nicolás                   163   \n",
       "2952622              16305   San Nicolás                   163   \n",
       "2952623              16305   San Nicolás                   163   \n",
       "\n",
       "        Provincia Origen  CUT Region Origen Region Origen  CUT Comuna Destino  \\\n",
       "0                Iquique                  1      Tarapacá                1402   \n",
       "1                Iquique                  1      Tarapacá                1403   \n",
       "2                Iquique                  1      Tarapacá                1404   \n",
       "3                Iquique                  1      Tarapacá                1405   \n",
       "4                Iquique                  1      Tarapacá                2101   \n",
       "...                  ...                ...           ...                 ...   \n",
       "2952619          Punilla                 16         Ñuble               16203   \n",
       "2952620          Punilla                 16         Ñuble               16207   \n",
       "2952621          Punilla                 16         Ñuble               16302   \n",
       "2952622          Punilla                 16         Ñuble               16303   \n",
       "2952623          Punilla                 16         Ñuble               16304   \n",
       "\n",
       "        Comuna Destino  CUT Destino Turistico              Destino Turistico  \\\n",
       "0               Camiña                      0                         Camiña   \n",
       "1             Colchane                      1  Colchane - P.N. Volcán Isluga   \n",
       "2                Huara                      2          Resto región Tarapacá   \n",
       "3                 Pica                      3                           Pica   \n",
       "4          Antofagasta                      4                    Antofagasta   \n",
       "...                ...                    ...                            ...   \n",
       "2952619        Coelemu                     87                Valle del Itata   \n",
       "2952620       Treguaco                     83             Resto región Ñuble   \n",
       "2952621       Coihueco                     83             Resto región Ñuble   \n",
       "2952622         Ñiquén                     83             Resto región Ñuble   \n",
       "2952623     San Fabián                     92                     San Fabián   \n",
       "\n",
       "         ...  Anio CUT Mes        Mes Viajes Ocasionales  CUT Temporada  \\\n",
       "0        ...  2019       1      enero                109              1   \n",
       "1        ...  2019       1      enero                298              1   \n",
       "2        ...  2019       1      enero               2594              1   \n",
       "3        ...  2019       1      enero               4138              1   \n",
       "4        ...  2019       1      enero               2071              1   \n",
       "...      ...   ...     ...        ...                ...            ...   \n",
       "2952619  ...  2023      12  diciembre                 17              1   \n",
       "2952620  ...  2023      12  diciembre                 44              1   \n",
       "2952621  ...  2023      12  diciembre                108              1   \n",
       "2952622  ...  2023      12  diciembre                 47              1   \n",
       "2952623  ...  2023      12  diciembre                 26              1   \n",
       "\n",
       "         Temporada PIB Region Origen  PIB Region Destino  Norte a Sur Origen  \\\n",
       "0             Alta       1061.580205         1061.580205                   2   \n",
       "1             Alta       1061.580205         1061.580205                   2   \n",
       "2             Alta       1061.580205         1061.580205                   2   \n",
       "3             Alta       1061.580205         1061.580205                   2   \n",
       "4             Alta       1061.580205         3724.530431                   2   \n",
       "...            ...               ...                 ...                 ...   \n",
       "2952619       Alta        833.567298          833.567298                  10   \n",
       "2952620       Alta        833.567298          833.567298                  10   \n",
       "2952621       Alta        833.567298          833.567298                  10   \n",
       "2952622       Alta        833.567298          833.567298                  10   \n",
       "2952623       Alta        833.567298          833.567298                  10   \n",
       "\n",
       "        Norte a Sur Destino  \n",
       "0                         2  \n",
       "1                         2  \n",
       "2                         2  \n",
       "3                         2  \n",
       "4                         3  \n",
       "...                     ...  \n",
       "2952619                  10  \n",
       "2952620                  10  \n",
       "2952621                  10  \n",
       "2952622                  10  \n",
       "2952623                  10  \n",
       "\n",
       "[2952624 rows x 24 columns]"
      ]
     },
     "execution_count": 85,
     "metadata": {},
     "output_type": "execute_result"
    }
   ],
   "source": [
    "df = pd.read_csv('/Users/luiscamacho/VSCProjects/Exploracion_Proyecto_Final/data/processed/df_listo_para_segmentar.csv',sep=';')\n",
    "df"
   ]
  },
  {
   "cell_type": "code",
   "execution_count": 86,
   "metadata": {},
   "outputs": [
    {
     "data": {
      "text/plain": [
       "Index(['CUT Comuna Origen', 'Comuna Origen', 'CUT Provincia Origen',\n",
       "       'Provincia Origen', 'CUT Region Origen', 'Region Origen',\n",
       "       'CUT Comuna Destino', 'Comuna Destino', 'CUT Destino Turistico',\n",
       "       'Destino Turistico', 'CUT Provincia Destino', 'Provincia Destino',\n",
       "       'CUT Region Destino', 'Region Destino', 'Anio', 'CUT Mes', 'Mes',\n",
       "       'Viajes Ocasionales', 'CUT Temporada', 'Temporada', 'PIB Region Origen',\n",
       "       'PIB Region Destino', 'Norte a Sur Origen', 'Norte a Sur Destino'],\n",
       "      dtype='object')"
      ]
     },
     "execution_count": 86,
     "metadata": {},
     "output_type": "execute_result"
    }
   ],
   "source": [
    "df.columns"
   ]
  },
  {
   "cell_type": "code",
   "execution_count": 87,
   "metadata": {},
   "outputs": [
    {
     "data": {
      "text/html": [
       "<div>\n",
       "<style scoped>\n",
       "    .dataframe tbody tr th:only-of-type {\n",
       "        vertical-align: middle;\n",
       "    }\n",
       "\n",
       "    .dataframe tbody tr th {\n",
       "        vertical-align: top;\n",
       "    }\n",
       "\n",
       "    .dataframe thead th {\n",
       "        text-align: right;\n",
       "    }\n",
       "</style>\n",
       "<table border=\"1\" class=\"dataframe\">\n",
       "  <thead>\n",
       "    <tr style=\"text-align: right;\">\n",
       "      <th></th>\n",
       "      <th>Comuna Origen</th>\n",
       "      <th>Provincia Origen</th>\n",
       "      <th>Region Origen</th>\n",
       "    </tr>\n",
       "  </thead>\n",
       "  <tbody>\n",
       "    <tr>\n",
       "      <th>0</th>\n",
       "      <td>Iquique</td>\n",
       "      <td>Iquique</td>\n",
       "      <td>Tarapacá</td>\n",
       "    </tr>\n",
       "    <tr>\n",
       "      <th>1</th>\n",
       "      <td>Iquique</td>\n",
       "      <td>Iquique</td>\n",
       "      <td>Tarapacá</td>\n",
       "    </tr>\n",
       "    <tr>\n",
       "      <th>2</th>\n",
       "      <td>Iquique</td>\n",
       "      <td>Iquique</td>\n",
       "      <td>Tarapacá</td>\n",
       "    </tr>\n",
       "    <tr>\n",
       "      <th>3</th>\n",
       "      <td>Iquique</td>\n",
       "      <td>Iquique</td>\n",
       "      <td>Tarapacá</td>\n",
       "    </tr>\n",
       "    <tr>\n",
       "      <th>4</th>\n",
       "      <td>Iquique</td>\n",
       "      <td>Iquique</td>\n",
       "      <td>Tarapacá</td>\n",
       "    </tr>\n",
       "    <tr>\n",
       "      <th>...</th>\n",
       "      <td>...</td>\n",
       "      <td>...</td>\n",
       "      <td>...</td>\n",
       "    </tr>\n",
       "    <tr>\n",
       "      <th>2952619</th>\n",
       "      <td>San Nicolás</td>\n",
       "      <td>Punilla</td>\n",
       "      <td>Ñuble</td>\n",
       "    </tr>\n",
       "    <tr>\n",
       "      <th>2952620</th>\n",
       "      <td>San Nicolás</td>\n",
       "      <td>Punilla</td>\n",
       "      <td>Ñuble</td>\n",
       "    </tr>\n",
       "    <tr>\n",
       "      <th>2952621</th>\n",
       "      <td>San Nicolás</td>\n",
       "      <td>Punilla</td>\n",
       "      <td>Ñuble</td>\n",
       "    </tr>\n",
       "    <tr>\n",
       "      <th>2952622</th>\n",
       "      <td>San Nicolás</td>\n",
       "      <td>Punilla</td>\n",
       "      <td>Ñuble</td>\n",
       "    </tr>\n",
       "    <tr>\n",
       "      <th>2952623</th>\n",
       "      <td>San Nicolás</td>\n",
       "      <td>Punilla</td>\n",
       "      <td>Ñuble</td>\n",
       "    </tr>\n",
       "  </tbody>\n",
       "</table>\n",
       "<p>2952624 rows × 3 columns</p>\n",
       "</div>"
      ],
      "text/plain": [
       "        Comuna Origen Provincia Origen Region Origen\n",
       "0             Iquique          Iquique      Tarapacá\n",
       "1             Iquique          Iquique      Tarapacá\n",
       "2             Iquique          Iquique      Tarapacá\n",
       "3             Iquique          Iquique      Tarapacá\n",
       "4             Iquique          Iquique      Tarapacá\n",
       "...               ...              ...           ...\n",
       "2952619   San Nicolás          Punilla         Ñuble\n",
       "2952620   San Nicolás          Punilla         Ñuble\n",
       "2952621   San Nicolás          Punilla         Ñuble\n",
       "2952622   San Nicolás          Punilla         Ñuble\n",
       "2952623   San Nicolás          Punilla         Ñuble\n",
       "\n",
       "[2952624 rows x 3 columns]"
      ]
     },
     "execution_count": 87,
     "metadata": {},
     "output_type": "execute_result"
    }
   ],
   "source": [
    "df_dic_origen = df.drop(['CUT Comuna Origen', 'CUT Provincia Origen','CUT Region Origen',\n",
    "       'CUT Comuna Destino', 'Comuna Destino', 'CUT Destino Turistico',\n",
    "       'Destino Turistico', 'CUT Provincia Destino', 'Provincia Destino',\n",
    "       'CUT Region Destino', 'Region Destino', 'Anio', 'CUT Mes', 'Mes',\n",
    "       'Viajes Ocasionales', 'CUT Temporada', 'Temporada', 'PIB Region Origen',\n",
    "       'PIB Region Destino', 'Norte a Sur Origen', 'Norte a Sur Destino'],axis=1)\n",
    "df_dic_origen"
   ]
  },
  {
   "cell_type": "code",
   "execution_count": 88,
   "metadata": {},
   "outputs": [
    {
     "data": {
      "text/plain": [
       "np.int64(2952279)"
      ]
     },
     "execution_count": 88,
     "metadata": {},
     "output_type": "execute_result"
    }
   ],
   "source": [
    "df_dic_origen.duplicated().sum()"
   ]
  },
  {
   "cell_type": "code",
   "execution_count": 89,
   "metadata": {},
   "outputs": [
    {
     "data": {
      "text/plain": [
       "np.int64(0)"
      ]
     },
     "execution_count": 89,
     "metadata": {},
     "output_type": "execute_result"
    }
   ],
   "source": [
    "df_dic_origen.drop_duplicates(inplace=True)\n",
    "df_dic_origen.duplicated().sum()"
   ]
  },
  {
   "cell_type": "code",
   "execution_count": 90,
   "metadata": {},
   "outputs": [
    {
     "data": {
      "text/html": [
       "<div>\n",
       "<style scoped>\n",
       "    .dataframe tbody tr th:only-of-type {\n",
       "        vertical-align: middle;\n",
       "    }\n",
       "\n",
       "    .dataframe tbody tr th {\n",
       "        vertical-align: top;\n",
       "    }\n",
       "\n",
       "    .dataframe thead th {\n",
       "        text-align: right;\n",
       "    }\n",
       "</style>\n",
       "<table border=\"1\" class=\"dataframe\">\n",
       "  <thead>\n",
       "    <tr style=\"text-align: right;\">\n",
       "      <th></th>\n",
       "      <th>Comuna Origen</th>\n",
       "      <th>Provincia Origen</th>\n",
       "      <th>Region Origen</th>\n",
       "    </tr>\n",
       "  </thead>\n",
       "  <tbody>\n",
       "    <tr>\n",
       "      <th>0</th>\n",
       "      <td>Iquique</td>\n",
       "      <td>Iquique</td>\n",
       "      <td>Tarapacá</td>\n",
       "    </tr>\n",
       "    <tr>\n",
       "      <th>1398</th>\n",
       "      <td>Alto Hospicio</td>\n",
       "      <td>Iquique</td>\n",
       "      <td>Tarapacá</td>\n",
       "    </tr>\n",
       "    <tr>\n",
       "      <th>2224</th>\n",
       "      <td>Pozo Almonte</td>\n",
       "      <td>Tamarugal</td>\n",
       "      <td>Tarapacá</td>\n",
       "    </tr>\n",
       "    <tr>\n",
       "      <th>2638</th>\n",
       "      <td>Camiña</td>\n",
       "      <td>Tamarugal</td>\n",
       "      <td>Tarapacá</td>\n",
       "    </tr>\n",
       "    <tr>\n",
       "      <th>2681</th>\n",
       "      <td>Colchane</td>\n",
       "      <td>Tamarugal</td>\n",
       "      <td>Tarapacá</td>\n",
       "    </tr>\n",
       "    <tr>\n",
       "      <th>...</th>\n",
       "      <td>...</td>\n",
       "      <td>...</td>\n",
       "      <td>...</td>\n",
       "    </tr>\n",
       "    <tr>\n",
       "      <th>258125</th>\n",
       "      <td>San Carlos</td>\n",
       "      <td>Punilla</td>\n",
       "      <td>Ñuble</td>\n",
       "    </tr>\n",
       "    <tr>\n",
       "      <th>259379</th>\n",
       "      <td>Coihueco</td>\n",
       "      <td>Punilla</td>\n",
       "      <td>Ñuble</td>\n",
       "    </tr>\n",
       "    <tr>\n",
       "      <th>260165</th>\n",
       "      <td>Ñiquén</td>\n",
       "      <td>Punilla</td>\n",
       "      <td>Ñuble</td>\n",
       "    </tr>\n",
       "    <tr>\n",
       "      <th>260808</th>\n",
       "      <td>San Fabián</td>\n",
       "      <td>Punilla</td>\n",
       "      <td>Ñuble</td>\n",
       "    </tr>\n",
       "    <tr>\n",
       "      <th>260994</th>\n",
       "      <td>San Nicolás</td>\n",
       "      <td>Punilla</td>\n",
       "      <td>Ñuble</td>\n",
       "    </tr>\n",
       "  </tbody>\n",
       "</table>\n",
       "<p>345 rows × 3 columns</p>\n",
       "</div>"
      ],
      "text/plain": [
       "        Comuna Origen Provincia Origen Region Origen\n",
       "0             Iquique          Iquique      Tarapacá\n",
       "1398    Alto Hospicio          Iquique      Tarapacá\n",
       "2224     Pozo Almonte        Tamarugal      Tarapacá\n",
       "2638           Camiña        Tamarugal      Tarapacá\n",
       "2681         Colchane        Tamarugal      Tarapacá\n",
       "...               ...              ...           ...\n",
       "258125     San Carlos          Punilla         Ñuble\n",
       "259379       Coihueco          Punilla         Ñuble\n",
       "260165         Ñiquén          Punilla         Ñuble\n",
       "260808     San Fabián          Punilla         Ñuble\n",
       "260994    San Nicolás          Punilla         Ñuble\n",
       "\n",
       "[345 rows x 3 columns]"
      ]
     },
     "execution_count": 90,
     "metadata": {},
     "output_type": "execute_result"
    }
   ],
   "source": [
    "df_dic_origen"
   ]
  },
  {
   "cell_type": "code",
   "execution_count": 91,
   "metadata": {},
   "outputs": [
    {
     "name": "stdout",
     "output_type": "stream",
     "text": [
      "{'Antofagasta': {'Antofagasta': ['Antofagasta', 'Mejillones', 'Sierra Gorda', 'Taltal'], 'El Loa': ['Calama', 'Ollagüe', 'San Pedro de Atacama'], 'Tocopilla': ['Tocopilla', 'María Elena']}, 'Arica y Parinacota': {'Arica': ['Arica', 'Camarones'], 'Parinacota': ['Putre', 'General Lagos']}, 'Atacama': {'Chañaral': ['Chañaral', 'Diego de Almagro'], 'Copiapó': ['Copiapó', 'Caldera', 'Tierra Amarilla'], 'Huasco': ['Vallenar', 'Alto del Carmen', 'Freirina', 'Huasco']}, 'Aysén del General Carlos Ibáñez del Campo': {'Aysén': ['Aisén', 'Cisnes', 'Guaitecas'], 'Capitán Prat': ['Cochrane', \"O'Higgins\", 'Tortel'], 'Coihaique': ['Coihaique', 'Lago Verde'], 'General Carrera': ['Chile Chico', 'Río Ibáñez']}, 'Biobío': {'Arauco': ['Lebu', 'Arauco', 'Cañete', 'Contulmo', 'Curanilahue', 'Los Alamos', 'Tirúa'], 'Biobío': ['Los Angeles', 'Antuco', 'Cabrero', 'Laja', 'Mulchén', 'Nacimiento', 'Negrete', 'Quilaco', 'Quilleco', 'San Rosendo', 'Santa Bárbara', 'Tucapel', 'Yumbel', 'Alto Biobío'], 'Concepción': ['Concepción', 'Coronel', 'Chiguayante', 'Florida', 'Hualqui', 'Lota', 'Penco', 'San Pedro de la Paz', 'Santa Juana', 'Talcahuano', 'Tomé', 'Hualpén']}, 'Coquimbo': {'Choapa': ['Illapel', 'Canela', 'Los Vilos', 'Salamanca'], 'Elqui': ['La Serena', 'Coquimbo', 'Andacollo', 'La Higuera', 'Paiguano', 'Vicuña'], 'Limarí': ['Ovalle', 'Combarbalá', 'Monte Patria', 'Punitaqui', 'Río Hurtado']}, 'La Araucanía': {'Cautín': ['Temuco', 'Carahue', 'Cunco', 'Curarrehue', 'Freire', 'Galvarino', 'Gorbea', 'Lautaro', 'Loncoche', 'Melipeuco', 'Nueva Imperial', 'Padre Las Casas', 'Perquenco', 'Pitrufquén', 'Pucón', 'Saavedra', 'Teodoro Schmidt', 'Toltén', 'Vilcún', 'Villarrica', 'Cholchol'], 'Malleco': ['Angol', 'Collipulli', 'Curacautín', 'Ercilla', 'Lonquimay', 'Los Sauces', 'Lumaco', 'Purén', 'Renaico', 'Traiguén', 'Victoria']}, \"Libertador Gral. Bernardo O'Higgins\": {'Cachapoal': ['Rancagua', 'Codegua', 'Coinco', 'Coltauco', 'Doñihue', 'Graneros', 'Las Cabras', 'Machalí', 'Malloa', 'Mostazal', 'Olivar', 'Peumo', 'Pichidegua', 'Quinta de Tilcoco', 'Rengo', 'Requínoa', 'San Vicente'], 'Cardenal Caro': ['Pichilemu', 'La Estrella', 'Litueche', 'Marchihue', 'Navidad', 'Paredones'], 'Colchagua': ['San Fernando', 'Chépica', 'Chimbarongo', 'Lolol', 'Nancagua', 'Palmilla', 'Peralillo', 'Placilla', 'Pumanque', 'Santa Cruz']}, 'Los Lagos': {'Chiloé': ['Castro', 'Ancud', 'Chonchi', 'Curaco de Vélez', 'Dalcahue', 'Puqueldón', 'Queilén', 'Quellón', 'Quemchi', 'Quinchao'], 'Llanquihue': ['Puerto Montt', 'Calbuco', 'Cochamó', 'Fresia', 'Frutillar', 'Los Muermos', 'Llanquihue', 'Maullín', 'Puerto Varas'], 'Osorno': ['Osorno', 'Puerto Octay', 'Purranque', 'Puyehue', 'Río Negro', 'San Juan de la Costa', 'San Pablo'], 'Palena': ['Chaitén', 'Futaleufú', 'Hualaihué', 'Palena']}, 'Los Ríos': {'Ranco': ['La Unión', 'Futrono', 'Lago Ranco', 'Río Bueno'], 'Valdivia': ['Valdivia', 'Corral', 'Lanco', 'Los Lagos', 'Máfil', 'Mariquina', 'Paillaco', 'Panguipulli']}, 'Magallanes y de la Antártica Chilena': {'Antártica Chilena': ['Cabo de Hornos'], 'Magallanes': ['Punta Arenas', 'Laguna Blanca', 'Río Verde', 'San Gregorio'], 'Tierra del Fuego': ['Porvenir', 'Primavera', 'Timaukel'], 'Ultima Esperanza': ['Natales', 'Torres del Paine']}, 'Maule': {'Cauquenes': ['Cauquenes', 'Chanco', 'Pelluhue'], 'Curicó': ['Curicó', 'Hualañé', 'Licantén', 'Molina', 'Rauco', 'Romeral', 'Sagrada Familia', 'Teno', 'Vichuquén'], 'Linares': ['Linares', 'Colbún', 'Longaví', 'Parral', 'Retiro', 'San Javier', 'Villa Alegre', 'Yerbas Buenas'], 'Talca': ['Talca', 'Constitución', 'Curepto', 'Empedrado', 'Maule', 'Pelarco', 'Pencahue', 'Río Claro', 'San Clemente', 'San Rafael']}, 'Metropolitana de Santiago': {'Chacabuco': ['Colina', 'Lampa', 'Tiltil'], 'Cordillera': ['Puente Alto', 'Pirque', 'San José de Maipo'], 'Maipo': ['San Bernardo', 'Buin', 'Calera de Tango', 'Paine'], 'Melipilla': ['Melipilla', 'Alhué', 'Curacaví', 'María Pinto', 'San Pedro'], 'Santiago': ['Santiago', 'Cerrillos', 'Cerro Navia', 'Conchalí', 'El Bosque', 'Estación Central', 'Huechuraba', 'Independencia', 'La Cisterna', 'La Florida', 'La Granja', 'La Pintana', 'La Reina', 'Las Condes', 'Lo Barnechea', 'Lo Espejo', 'Lo Prado', 'Macul', 'Maipú', 'Ñuñoa', 'Pedro Aguirre Cerda', 'Peñalolén', 'Providencia', 'Pudahuel', 'Quilicura', 'Quinta Normal', 'Recoleta', 'Renca', 'San Joaquín', 'San Miguel', 'San Ramón', 'Vitacura'], 'Talagante': ['Talagante', 'El Monte', 'Isla de Maipo', 'Padre Hurtado', 'Peñaflor']}, 'Tarapacá': {'Iquique': ['Iquique', 'Alto Hospicio'], 'Tamarugal': ['Pozo Almonte', 'Camiña', 'Colchane', 'Huara', 'Pica']}, 'Valparaíso': {'Isla de Pascua': ['Isla de Pascua'], 'Los Andes': ['Los Andes', 'Calle Larga', 'Rinconada', 'San Esteban'], 'Marga Marga': ['Quilpué', 'Limache', 'Olmué', 'Villa Alemana'], 'Petorca': ['La Ligua', 'Cabildo', 'Papudo', 'Petorca', 'Zapallar'], 'Quillota': ['Quillota', 'Calera', 'Hijuelas', 'La Cruz', 'Nogales'], 'San Antonio': ['San Antonio', 'Algarrobo', 'Cartagena', 'El Quisco', 'El Tabo', 'Santo Domingo'], 'San Felipe de Aconcagua': ['San Felipe', 'Catemu', 'Llaillay', 'Panquehue', 'Putaendo', 'Santa María'], 'Valparaíso': ['Valparaíso', 'Casablanca', 'Concón', 'Juan Fernández', 'Puchuncaví', 'Quintero', 'Viña del Mar']}, 'Ñuble': {'Diguillin': ['Chillán', 'Bulnes', 'Chillán Viejo', 'El Carmen', 'Pemuco', 'Pinto', 'Quillón', 'San Ignacio', 'Yungay'], 'Itata': ['Quirihue', 'Cobquecura', 'Coelemu', 'Ninhue', 'Portezuelo', 'Ranquil', 'Treguaco'], 'Punilla': ['San Carlos', 'Coihueco', 'Ñiquén', 'San Fabián', 'San Nicolás']}}\n"
     ]
    }
   ],
   "source": [
    "region_dict = {}\n",
    "for region, region_group in df_dic_origen.groupby('Region Origen'):\n",
    "    provincias_dict = {}\n",
    "    for provincia, provincia_group in region_group.groupby('Provincia Origen'):\n",
    "        comunas = provincia_group['Comuna Origen'].tolist()\n",
    "        provincias_dict[provincia] = comunas\n",
    "    region_dict[region] = provincias_dict\n",
    "\n",
    "# Mostrar el diccionario resultante\n",
    "print(region_dict)"
   ]
  },
  {
   "cell_type": "code",
   "execution_count": 92,
   "metadata": {},
   "outputs": [],
   "source": [
    "import json\n",
    "\n",
    "# Guardar el diccionario en un archivo JSON\n",
    "with open('../data/processed/region_origen_dict.json', 'w', encoding='utf-8') as f:\n",
    "    json.dump(region_dict, f, ensure_ascii=False, indent=4)"
   ]
  },
  {
   "cell_type": "code",
   "execution_count": 93,
   "metadata": {},
   "outputs": [
    {
     "name": "stdout",
     "output_type": "stream",
     "text": [
      "{'Antofagasta': {'Antofagasta': ['Antofagasta', 'Mejillones', 'Sierra Gorda', 'Taltal'], 'El Loa': ['Calama', 'Ollagüe', 'San Pedro de Atacama'], 'Tocopilla': ['Tocopilla', 'María Elena']}, 'Arica y Parinacota': {'Arica': ['Arica', 'Camarones'], 'Parinacota': ['Putre', 'General Lagos']}, 'Atacama': {'Chañaral': ['Chañaral', 'Diego de Almagro'], 'Copiapó': ['Copiapó', 'Caldera', 'Tierra Amarilla'], 'Huasco': ['Vallenar', 'Alto del Carmen', 'Freirina', 'Huasco']}, 'Aysén del General Carlos Ibáñez del Campo': {'Aysén': ['Aisén', 'Cisnes', 'Guaitecas'], 'Capitán Prat': ['Cochrane', \"O'Higgins\", 'Tortel'], 'Coihaique': ['Coihaique', 'Lago Verde'], 'General Carrera': ['Chile Chico', 'Río Ibáñez']}, 'Biobío': {'Arauco': ['Lebu', 'Arauco', 'Cañete', 'Contulmo', 'Curanilahue', 'Los Alamos', 'Tirúa'], 'Biobío': ['Los Angeles', 'Antuco', 'Cabrero', 'Laja', 'Mulchén', 'Nacimiento', 'Negrete', 'Quilaco', 'Quilleco', 'San Rosendo', 'Santa Bárbara', 'Tucapel', 'Yumbel', 'Alto Biobío'], 'Concepción': ['Concepción', 'Coronel', 'Chiguayante', 'Florida', 'Hualqui', 'Lota', 'Penco', 'San Pedro de la Paz', 'Santa Juana', 'Talcahuano', 'Tomé', 'Hualpén']}, 'Coquimbo': {'Choapa': ['Illapel', 'Canela', 'Los Vilos', 'Salamanca'], 'Elqui': ['La Serena', 'Coquimbo', 'Andacollo', 'La Higuera', 'Paiguano', 'Vicuña'], 'Limarí': ['Ovalle', 'Combarbalá', 'Monte Patria', 'Punitaqui', 'Río Hurtado']}, 'La Araucanía': {'Cautín': ['Temuco', 'Carahue', 'Cunco', 'Curarrehue', 'Freire', 'Galvarino', 'Gorbea', 'Lautaro', 'Loncoche', 'Melipeuco', 'Nueva Imperial', 'Padre Las Casas', 'Perquenco', 'Pitrufquén', 'Pucón', 'Saavedra', 'Teodoro Schmidt', 'Toltén', 'Vilcún', 'Villarrica', 'Cholchol'], 'Malleco': ['Angol', 'Collipulli', 'Curacautín', 'Ercilla', 'Lonquimay', 'Los Sauces', 'Lumaco', 'Purén', 'Renaico', 'Traiguén', 'Victoria']}, \"Libertador Gral. Bernardo O'Higgins\": {'Cachapoal': ['Rancagua', 'Codegua', 'Coinco', 'Coltauco', 'Doñihue', 'Graneros', 'Las Cabras', 'Machalí', 'Malloa', 'Mostazal', 'Olivar', 'Peumo', 'Pichidegua', 'Quinta de Tilcoco', 'Rengo', 'Requínoa', 'San Vicente'], 'Cardenal Caro': ['Pichilemu', 'La Estrella', 'Litueche', 'Marchihue', 'Navidad', 'Paredones'], 'Colchagua': ['San Fernando', 'Chépica', 'Chimbarongo', 'Lolol', 'Nancagua', 'Palmilla', 'Peralillo', 'Placilla', 'Pumanque', 'Santa Cruz']}, 'Los Lagos': {'Chiloé': ['Castro', 'Ancud', 'Chonchi', 'Curaco de Vélez', 'Dalcahue', 'Puqueldón', 'Queilén', 'Quellón', 'Quemchi', 'Quinchao'], 'Llanquihue': ['Puerto Montt', 'Calbuco', 'Cochamó', 'Fresia', 'Frutillar', 'Los Muermos', 'Llanquihue', 'Maullín', 'Puerto Varas'], 'Osorno': ['Osorno', 'Puerto Octay', 'Purranque', 'Puyehue', 'Río Negro', 'San Juan de la Costa', 'San Pablo'], 'Palena': ['Chaitén', 'Futaleufú', 'Hualaihué', 'Palena']}, 'Los Ríos': {'Ranco': ['La Unión', 'Futrono', 'Lago Ranco', 'Río Bueno'], 'Valdivia': ['Valdivia', 'Corral', 'Lanco', 'Los Lagos', 'Máfil', 'Mariquina', 'Paillaco', 'Panguipulli']}, 'Magallanes y de la Antártica Chilena': {'Antártica Chilena': ['Cabo de Hornos'], 'Magallanes': ['Punta Arenas', 'Laguna Blanca', 'Río Verde', 'San Gregorio'], 'Tierra del Fuego': ['Porvenir', 'Primavera', 'Timaukel'], 'Ultima Esperanza': ['Natales', 'Torres del Paine']}, 'Maule': {'Cauquenes': ['Cauquenes', 'Chanco', 'Pelluhue'], 'Curicó': ['Curicó', 'Hualañé', 'Licantén', 'Molina', 'Rauco', 'Romeral', 'Sagrada Familia', 'Teno', 'Vichuquén'], 'Linares': ['Linares', 'Colbún', 'Longaví', 'Parral', 'Retiro', 'San Javier', 'Villa Alegre', 'Yerbas Buenas'], 'Talca': ['Talca', 'Constitución', 'Curepto', 'Empedrado', 'Maule', 'Pelarco', 'Pencahue', 'Río Claro', 'San Clemente', 'San Rafael']}, 'Metropolitana de Santiago': {'Chacabuco': ['Colina', 'Lampa', 'Tiltil'], 'Cordillera': ['Puente Alto', 'Pirque', 'San José de Maipo'], 'Maipo': ['San Bernardo', 'Buin', 'Calera de Tango', 'Paine'], 'Melipilla': ['Melipilla', 'Alhué', 'Curacaví', 'María Pinto', 'San Pedro'], 'Santiago': ['Santiago', 'Cerrillos', 'Cerro Navia', 'Conchalí', 'El Bosque', 'Estación Central', 'Huechuraba', 'Independencia', 'La Cisterna', 'La Florida', 'La Granja', 'La Pintana', 'La Reina', 'Las Condes', 'Lo Barnechea', 'Lo Espejo', 'Lo Prado', 'Macul', 'Maipú', 'Ñuñoa', 'Pedro Aguirre Cerda', 'Peñalolén', 'Providencia', 'Pudahuel', 'Quilicura', 'Quinta Normal', 'Recoleta', 'Renca', 'San Joaquín', 'San Miguel', 'San Ramón', 'Vitacura'], 'Talagante': ['Talagante', 'El Monte', 'Isla de Maipo', 'Padre Hurtado', 'Peñaflor']}, 'Tarapacá': {'Iquique': ['Iquique', 'Alto Hospicio'], 'Tamarugal': ['Pozo Almonte', 'Camiña', 'Colchane', 'Huara', 'Pica']}, 'Valparaíso': {'Isla de Pascua': ['Isla de Pascua'], 'Los Andes': ['Los Andes', 'Calle Larga', 'Rinconada', 'San Esteban'], 'Marga Marga': ['Quilpué', 'Limache', 'Olmué', 'Villa Alemana'], 'Petorca': ['La Ligua', 'Cabildo', 'Papudo', 'Petorca', 'Zapallar'], 'Quillota': ['Quillota', 'Calera', 'Hijuelas', 'La Cruz', 'Nogales'], 'San Antonio': ['San Antonio', 'Algarrobo', 'Cartagena', 'El Quisco', 'El Tabo', 'Santo Domingo'], 'San Felipe de Aconcagua': ['San Felipe', 'Catemu', 'Llaillay', 'Panquehue', 'Putaendo', 'Santa María'], 'Valparaíso': ['Valparaíso', 'Casablanca', 'Concón', 'Juan Fernández', 'Puchuncaví', 'Quintero', 'Viña del Mar']}, 'Ñuble': {'Diguillin': ['Chillán', 'Bulnes', 'Chillán Viejo', 'El Carmen', 'Pemuco', 'Pinto', 'Quillón', 'San Ignacio', 'Yungay'], 'Itata': ['Quirihue', 'Cobquecura', 'Coelemu', 'Ninhue', 'Portezuelo', 'Ranquil', 'Treguaco'], 'Punilla': ['San Carlos', 'Coihueco', 'Ñiquén', 'San Fabián', 'San Nicolás']}}\n"
     ]
    }
   ],
   "source": [
    "with open('../data/processed/region_origen_dict.json', 'r', encoding='utf-8') as f:\n",
    "    region_dict = json.load(f)\n",
    "print(region_dict)"
   ]
  },
  {
   "cell_type": "code",
   "execution_count": 94,
   "metadata": {},
   "outputs": [
    {
     "name": "stdout",
     "output_type": "stream",
     "text": [
      "Provincias en Ñuble: ['Diguillin', 'Itata', 'Punilla']\n",
      "Comunas en Ñuble: ['Chillán', 'Bulnes', 'Chillán Viejo', 'El Carmen', 'Pemuco', 'Pinto', 'Quillón', 'San Ignacio', 'Yungay', 'Quirihue', 'Cobquecura', 'Coelemu', 'Ninhue', 'Portezuelo', 'Ranquil', 'Treguaco', 'San Carlos', 'Coihueco', 'Ñiquén', 'San Fabián', 'San Nicolás']\n"
     ]
    }
   ],
   "source": [
    "def obtener_info(region, region_dict, tipo='provincias'):\n",
    "    # Verificar si la región existe en el diccionario\n",
    "    if region not in region_dict:\n",
    "        return f\"La región '{region}' no se encuentra en el diccionario.\"\n",
    "    \n",
    "    # Si se solicita 'provincias', obtenemos las claves del subdiccionario\n",
    "    if tipo == 'provincias':\n",
    "        return list(region_dict[region].keys())\n",
    "    \n",
    "    # Si se solicita 'comunas', recopilamos todas las comunas de las provincias en la región\n",
    "    elif tipo == 'comunas':\n",
    "        comunas = []\n",
    "        for provincia in region_dict[region].values():\n",
    "            comunas.extend(provincia)\n",
    "        return comunas\n",
    "    \n",
    "# Ejemplo de uso\n",
    "region = 'Ñuble'\n",
    "print(f\"Provincias en {region}: {obtener_info(region, region_dict, tipo='provincias')}\")\n",
    "print(f\"Comunas en {region}: {obtener_info(region, region_dict, tipo='comunas')}\")\n"
   ]
  },
  {
   "cell_type": "code",
   "execution_count": 95,
   "metadata": {},
   "outputs": [
    {
     "data": {
      "text/plain": [
       "Index(['CUT Comuna Origen', 'Comuna Origen', 'CUT Provincia Origen',\n",
       "       'Provincia Origen', 'CUT Region Origen', 'Region Origen',\n",
       "       'CUT Comuna Destino', 'Comuna Destino', 'CUT Destino Turistico',\n",
       "       'Destino Turistico', 'CUT Provincia Destino', 'Provincia Destino',\n",
       "       'CUT Region Destino', 'Region Destino', 'Anio', 'CUT Mes', 'Mes',\n",
       "       'Viajes Ocasionales', 'CUT Temporada', 'Temporada', 'PIB Region Origen',\n",
       "       'PIB Region Destino', 'Norte a Sur Origen', 'Norte a Sur Destino'],\n",
       "      dtype='object')"
      ]
     },
     "execution_count": 95,
     "metadata": {},
     "output_type": "execute_result"
    }
   ],
   "source": [
    "df.columns"
   ]
  },
  {
   "cell_type": "code",
   "execution_count": 96,
   "metadata": {},
   "outputs": [
    {
     "name": "stdout",
     "output_type": "stream",
     "text": [
      "{'Antofagasta': {'Antofagasta': ['Antofagasta', 'Mejillones', 'Sierra Gorda', 'Taltal'], 'El Loa': ['Calama', 'San Pedro de Atacama', 'Ollagüe'], 'Tocopilla': ['Tocopilla', 'María Elena']}, 'Arica y Parinacota': {'Arica': ['Arica', 'Camarones'], 'Parinacota': ['Putre', 'General Lagos']}, 'Atacama': {'Chañaral': ['Chañaral', 'Diego de Almagro'], 'Copiapó': ['Copiapó', 'Caldera', 'Tierra Amarilla'], 'Huasco': ['Vallenar', 'Alto del Carmen', 'Freirina', 'Huasco']}, 'Aysén del General Carlos Ibáñez del Campo': {'Aysén': ['Aisén', 'Cisnes', 'Guaitecas'], 'Capitán Prat': ['Cochrane', \"O'Higgins\", 'Tortel'], 'Coihaique': ['Coihaique', 'Lago Verde'], 'General Carrera': ['Chile Chico', 'Río Ibáñez']}, 'Biobío': {'Arauco': ['Lebu', 'Arauco', 'Cañete', 'Contulmo', 'Curanilahue', 'Los Alamos', 'Tirúa'], 'Biobío': ['Los Angeles', 'Cabrero', 'Mulchén', 'Nacimiento', 'San Rosendo', 'Santa Bárbara', 'Yumbel', 'Laja', 'Tucapel', 'Antuco', 'Negrete', 'Quilaco', 'Quilleco', 'Alto Biobío'], 'Concepción': ['Concepción', 'Coronel', 'Chiguayante', 'Hualqui', 'Lota', 'Penco', 'San Pedro de la Paz', 'Talcahuano', 'Tomé', 'Hualpén', 'Florida', 'Santa Juana']}, 'Coquimbo': {'Choapa': ['Illapel', 'Canela', 'Los Vilos', 'Salamanca'], 'Elqui': ['La Serena', 'Coquimbo', 'Andacollo', 'La Higuera', 'Paiguano', 'Vicuña'], 'Limarí': ['Ovalle', 'Combarbalá', 'Monte Patria', 'Punitaqui', 'Río Hurtado']}, 'La Araucanía': {'Cautín': ['Temuco', 'Cunco', 'Gorbea', 'Lautaro', 'Loncoche', 'Nueva Imperial', 'Padre Las Casas', 'Pitrufquén', 'Pucón', 'Vilcún', 'Villarrica', 'Freire', 'Melipeuco', 'Carahue', 'Saavedra', 'Perquenco', 'Galvarino', 'Teodoro Schmidt', 'Curarrehue', 'Toltén', 'Cholchol'], 'Malleco': ['Angol', 'Curacautín', 'Los Sauces', 'Traiguén', 'Victoria', 'Collipulli', 'Ercilla', 'Purén', 'Lonquimay', 'Renaico', 'Lumaco']}, \"Libertador Gral. Bernardo O'Higgins\": {'Cachapoal': ['Rancagua', 'Codegua', 'Doñihue', 'Graneros', 'Las Cabras', 'Machalí', 'Mostazal', 'Peumo', 'Pichidegua', 'Quinta de Tilcoco', 'Rengo', 'Requínoa', 'San Vicente', 'Coltauco', 'Malloa', 'Olivar', 'Coinco'], 'Cardenal Caro': ['Pichilemu', 'Navidad', 'Litueche', 'Paredones', 'Marchihue', 'La Estrella'], 'Colchagua': ['San Fernando', 'Chimbarongo', 'Nancagua', 'Santa Cruz', 'Palmilla', 'Peralillo', 'Placilla', 'Lolol', 'Chépica', 'Pumanque']}, 'Los Lagos': {'Chiloé': ['Castro', 'Ancud', 'Chonchi', 'Dalcahue', 'Quellón', 'Curaco de Vélez', 'Puqueldón', 'Queilén', 'Quemchi', 'Quinchao'], 'Llanquihue': ['Puerto Montt', 'Calbuco', 'Frutillar', 'Llanquihue', 'Puerto Varas', 'Cochamó', 'Maullín', 'Los Muermos', 'Fresia'], 'Osorno': ['Osorno', 'Puyehue', 'Purranque', 'Río Negro', 'Puerto Octay', 'San Pablo', 'San Juan de la Costa'], 'Palena': ['Hualaihué', 'Chaitén', 'Futaleufú', 'Palena']}, 'Los Ríos': {'Ranco': ['La Unión', 'Futrono', 'Río Bueno', 'Lago Ranco'], 'Valdivia': ['Valdivia', 'Los Lagos', 'Mariquina', 'Panguipulli', 'Lanco', 'Paillaco', 'Corral', 'Máfil']}, 'Magallanes y de la Antártica Chilena': {'Antártica Chilena': ['Cabo de Hornos'], 'Magallanes': ['Punta Arenas', 'Río Verde', 'San Gregorio', 'Laguna Blanca'], 'Tierra del Fuego': ['Porvenir', 'Primavera', 'Timaukel'], 'Ultima Esperanza': ['Natales', 'Torres del Paine']}, 'Maule': {'Cauquenes': ['Cauquenes', 'Pelluhue', 'Chanco'], 'Curicó': ['Curicó', 'Licantén', 'Molina', 'Rauco', 'Romeral', 'Sagrada Familia', 'Teno', 'Hualañé', 'Vichuquén'], 'Linares': ['Linares', 'Colbún', 'Longaví', 'Parral', 'Retiro', 'San Javier', 'Villa Alegre', 'Yerbas Buenas'], 'Talca': ['Talca', 'Constitución', 'Curepto', 'Maule', 'San Clemente', 'San Rafael', 'Pelarco', 'Río Claro', 'Pencahue', 'Empedrado']}, 'Metropolitana de Santiago': {'Chacabuco': ['Colina', 'Lampa', 'Tiltil'], 'Cordillera': ['Puente Alto', 'Pirque', 'San José de Maipo'], 'Maipo': ['San Bernardo', 'Buin', 'Calera de Tango', 'Paine'], 'Melipilla': ['Melipilla', 'Curacaví', 'María Pinto', 'San Pedro', 'Alhué'], 'Santiago': ['Santiago', 'Cerrillos', 'Cerro Navia', 'Conchalí', 'El Bosque', 'Estación Central', 'Huechuraba', 'Independencia', 'La Cisterna', 'La Florida', 'La Granja', 'La Pintana', 'La Reina', 'Las Condes', 'Lo Barnechea', 'Lo Espejo', 'Lo Prado', 'Macul', 'Maipú', 'Ñuñoa', 'Pedro Aguirre Cerda', 'Peñalolén', 'Providencia', 'Pudahuel', 'Quilicura', 'Quinta Normal', 'Recoleta', 'Renca', 'San Joaquín', 'San Miguel', 'San Ramón', 'Vitacura'], 'Talagante': ['Talagante', 'El Monte', 'Isla de Maipo', 'Padre Hurtado', 'Peñaflor']}, 'Tarapacá': {'Iquique': ['Iquique', 'Alto Hospicio'], 'Tamarugal': ['Camiña', 'Colchane', 'Huara', 'Pica', 'Pozo Almonte']}, 'Valparaíso': {'Isla de Pascua': ['Isla de Pascua'], 'Los Andes': ['Los Andes', 'Calle Larga', 'Rinconada', 'San Esteban'], 'Marga Marga': ['Quilpué', 'Limache', 'Olmué', 'Villa Alemana'], 'Petorca': ['La Ligua', 'Cabildo', 'Papudo', 'Petorca', 'Zapallar'], 'Quillota': ['Quillota', 'Calera', 'Hijuelas', 'La Cruz', 'Nogales'], 'San Antonio': ['San Antonio', 'Algarrobo', 'Cartagena', 'El Quisco', 'El Tabo', 'Santo Domingo'], 'San Felipe de Aconcagua': ['San Felipe', 'Llaillay', 'Panquehue', 'Putaendo', 'Santa María', 'Catemu'], 'Valparaíso': ['Valparaíso', 'Casablanca', 'Concón', 'Puchuncaví', 'Quintero', 'Viña del Mar', 'Juan Fernández']}, 'Ñuble': {'Diguillin': ['Chillán', 'Bulnes', 'Chillán Viejo', 'Pinto', 'Quillón', 'San Ignacio', 'Yungay', 'Pemuco', 'El Carmen'], 'Itata': ['Cobquecura', 'Coelemu', 'Ninhue', 'Quirihue', 'Ranquil', 'Portezuelo', 'Treguaco'], 'Punilla': ['San Carlos', 'Coihueco', 'Ñiquén', 'San Nicolás', 'San Fabián']}}\n"
     ]
    }
   ],
   "source": [
    "df_dic_destino = df.drop(['CUT Comuna Origen', 'Comuna Origen', 'CUT Provincia Origen',\n",
    "       'Provincia Origen', 'CUT Region Origen', 'Region Origen',\n",
    "       'CUT Comuna Destino', 'CUT Destino Turistico',\n",
    "       'Destino Turistico', 'CUT Provincia Destino',\n",
    "       'CUT Region Destino', 'Anio', 'CUT Mes', 'Mes',\n",
    "       'Viajes Ocasionales', 'CUT Temporada', 'Temporada', 'PIB Region Origen',\n",
    "       'PIB Region Destino', 'Norte a Sur Origen', 'Norte a Sur Destino'],axis=1)\n",
    "\n",
    "df_dic_destino.drop_duplicates(inplace=True)\n",
    "\n",
    "region_dict = {}\n",
    "for region, region_group in df_dic_destino.groupby('Region Destino'):\n",
    "    provincias_dict = {}\n",
    "    for provincia, provincia_group in region_group.groupby('Provincia Destino'):\n",
    "        comunas = provincia_group['Comuna Destino'].tolist()\n",
    "        provincias_dict[provincia] = comunas\n",
    "    region_dict[region] = provincias_dict\n",
    "\n",
    "# Mostrar el diccionario resultante\n",
    "print(region_dict)\n",
    "\n",
    "import json\n",
    "\n",
    "# Guardar el diccionario en un archivo JSON\n",
    "with open('../data/processed/region_destino_dict.json', 'w', encoding='utf-8') as f:\n",
    "    json.dump(region_dict, f, ensure_ascii=False, indent=4)\n"
   ]
  },
  {
   "cell_type": "code",
   "execution_count": 97,
   "metadata": {},
   "outputs": [
    {
     "name": "stdout",
     "output_type": "stream",
     "text": [
      "Provincias en Antofagasta: ['Antofagasta', 'El Loa', 'Tocopilla']\n",
      "Todas las comunas en Antofagasta: ['Antofagasta', 'Mejillones', 'Sierra Gorda', 'Taltal', 'Calama', 'San Pedro de Atacama', 'Ollagüe', 'Tocopilla', 'María Elena']\n",
      "Comunas en Provincia A, Antofagasta: ['Antofagasta', 'Mejillones', 'Sierra Gorda', 'Taltal']\n"
     ]
    }
   ],
   "source": [
    "def obtener_info(region, region_dict, tipo='provincias', provincia=None):\n",
    "    # Verificar si la región existe en el diccionario\n",
    "    if region not in region_dict:\n",
    "        return f\"La región '{region}' no se encuentra en el diccionario.\"\n",
    "    \n",
    "    # Si se solicita 'provincias' y no se especifica provincia, obtenemos las provincias de la región\n",
    "    if tipo == 'provincias' and provincia is None:\n",
    "        return list(region_dict[region].keys())\n",
    "    \n",
    "    # Si se solicita 'comunas' de una región completa (sin especificar provincia)\n",
    "    elif tipo == 'comunas' and provincia is None:\n",
    "        comunas = []\n",
    "        for comunas_provincia in region_dict[region].values():\n",
    "            comunas.extend(comunas_provincia)\n",
    "        return comunas\n",
    "    \n",
    "    # Si se especifica una provincia y se solicita 'comunas', obtenemos las comunas de esa provincia\n",
    "    elif tipo == 'comunas' and provincia is not None:\n",
    "        # Verificar si la provincia existe dentro de la región\n",
    "        if provincia not in region_dict[region]:\n",
    "            return f\"La provincia '{provincia}' no se encuentra en la región '{region}'.\"\n",
    "        return region_dict[region][provincia]\n",
    "    \n",
    "    # Si el tipo solicitado no es válido\n",
    "    else:\n",
    "        return \"Tipo no válido. Usa 'provincias' o 'comunas'.\"\n",
    "\n",
    "# Ejemplos de uso\n",
    "region = 'Antofagasta'\n",
    "print(f\"Provincias en {region}: {obtener_info(region, region_dict, tipo='provincias')}\")\n",
    "print(f\"Todas las comunas en {region}: {obtener_info(region, region_dict, tipo='comunas')}\")\n",
    "print(f\"Comunas en Provincia A, {region}: {obtener_info(region, region_dict, tipo='comunas', provincia='Antofagasta')}\")\n"
   ]
  },
  {
   "cell_type": "code",
   "execution_count": 98,
   "metadata": {},
   "outputs": [
    {
     "name": "stdout",
     "output_type": "stream",
     "text": [
      "[(7, 2024), (8, 2024), (9, 2024), (10, 2024), (11, 2024), (12, 2024), (1, 2025), (2, 2025), (3, 2025), (4, 2025), (5, 2025), (6, 2025)]\n"
     ]
    }
   ],
   "source": [
    "from dateutil.relativedelta import relativedelta\n",
    "from datetime import datetime\n",
    "\n",
    "def calcular_meses(cantidad_meses):\n",
    "    # Fecha inicial: junio de 2024\n",
    "    fecha_inicial = datetime(2024, 7, 1)\n",
    "    \n",
    "    # Lista para almacenar los meses y años\n",
    "    meses_anios = []\n",
    "\n",
    "    # Calcular los meses y años correspondientes\n",
    "    for i in range(cantidad_meses):\n",
    "        # Sumar i meses a la fecha inicial utilizando relativedelta\n",
    "        nueva_fecha = fecha_inicial + relativedelta(months=i)\n",
    "        \n",
    "        # Agregar tupla (mes, año) a la lista\n",
    "        meses_anios.append((nueva_fecha.month, nueva_fecha.year))\n",
    "        \n",
    "    return meses_anios\n",
    "\n",
    "# Ejemplo de uso:\n",
    "cantidad_meses = 12\n",
    "resultado = calcular_meses(cantidad_meses)\n",
    "print(resultado)\n"
   ]
  },
  {
   "cell_type": "code",
   "execution_count": 99,
   "metadata": {},
   "outputs": [
    {
     "data": {
      "text/plain": [
       "Index(['CUT Comuna Origen', 'Comuna Origen', 'CUT Provincia Origen',\n",
       "       'Provincia Origen', 'CUT Region Origen', 'Region Origen',\n",
       "       'CUT Comuna Destino', 'Comuna Destino', 'CUT Destino Turistico',\n",
       "       'Destino Turistico', 'CUT Provincia Destino', 'Provincia Destino',\n",
       "       'CUT Region Destino', 'Region Destino', 'Anio', 'CUT Mes', 'Mes',\n",
       "       'Viajes Ocasionales', 'CUT Temporada', 'Temporada', 'PIB Region Origen',\n",
       "       'PIB Region Destino', 'Norte a Sur Origen', 'Norte a Sur Destino'],\n",
       "      dtype='object')"
      ]
     },
     "execution_count": 99,
     "metadata": {},
     "output_type": "execute_result"
    }
   ],
   "source": [
    "df.columns"
   ]
  },
  {
   "cell_type": "code",
   "execution_count": 100,
   "metadata": {},
   "outputs": [
    {
     "data": {
      "text/html": [
       "<div>\n",
       "<style scoped>\n",
       "    .dataframe tbody tr th:only-of-type {\n",
       "        vertical-align: middle;\n",
       "    }\n",
       "\n",
       "    .dataframe tbody tr th {\n",
       "        vertical-align: top;\n",
       "    }\n",
       "\n",
       "    .dataframe thead th {\n",
       "        text-align: right;\n",
       "    }\n",
       "</style>\n",
       "<table border=\"1\" class=\"dataframe\">\n",
       "  <thead>\n",
       "    <tr style=\"text-align: right;\">\n",
       "      <th></th>\n",
       "      <th>Region Destino</th>\n",
       "      <th>CUT Mes</th>\n",
       "      <th>CUT Temporada</th>\n",
       "    </tr>\n",
       "  </thead>\n",
       "  <tbody>\n",
       "    <tr>\n",
       "      <th>0</th>\n",
       "      <td>Tarapacá</td>\n",
       "      <td>1</td>\n",
       "      <td>1</td>\n",
       "    </tr>\n",
       "    <tr>\n",
       "      <th>4</th>\n",
       "      <td>Antofagasta</td>\n",
       "      <td>1</td>\n",
       "      <td>1</td>\n",
       "    </tr>\n",
       "    <tr>\n",
       "      <th>12</th>\n",
       "      <td>Atacama</td>\n",
       "      <td>1</td>\n",
       "      <td>1</td>\n",
       "    </tr>\n",
       "    <tr>\n",
       "      <th>21</th>\n",
       "      <td>Coquimbo</td>\n",
       "      <td>1</td>\n",
       "      <td>1</td>\n",
       "    </tr>\n",
       "    <tr>\n",
       "      <th>36</th>\n",
       "      <td>Valparaíso</td>\n",
       "      <td>1</td>\n",
       "      <td>1</td>\n",
       "    </tr>\n",
       "    <tr>\n",
       "      <th>...</th>\n",
       "      <td>...</td>\n",
       "      <td>...</td>\n",
       "      <td>...</td>\n",
       "    </tr>\n",
       "    <tr>\n",
       "      <th>2722146</th>\n",
       "      <td>Magallanes y de la Antártica Chilena</td>\n",
       "      <td>12</td>\n",
       "      <td>1</td>\n",
       "    </tr>\n",
       "    <tr>\n",
       "      <th>2722148</th>\n",
       "      <td>Metropolitana de Santiago</td>\n",
       "      <td>12</td>\n",
       "      <td>1</td>\n",
       "    </tr>\n",
       "    <tr>\n",
       "      <th>2722198</th>\n",
       "      <td>Los Ríos</td>\n",
       "      <td>12</td>\n",
       "      <td>0</td>\n",
       "    </tr>\n",
       "    <tr>\n",
       "      <th>2722205</th>\n",
       "      <td>Arica y Parinacota</td>\n",
       "      <td>12</td>\n",
       "      <td>1</td>\n",
       "    </tr>\n",
       "    <tr>\n",
       "      <th>2722208</th>\n",
       "      <td>Ñuble</td>\n",
       "      <td>12</td>\n",
       "      <td>1</td>\n",
       "    </tr>\n",
       "  </tbody>\n",
       "</table>\n",
       "<p>192 rows × 3 columns</p>\n",
       "</div>"
      ],
      "text/plain": [
       "                               Region Destino  CUT Mes  CUT Temporada\n",
       "0                                    Tarapacá        1              1\n",
       "4                                 Antofagasta        1              1\n",
       "12                                    Atacama        1              1\n",
       "21                                   Coquimbo        1              1\n",
       "36                                 Valparaíso        1              1\n",
       "...                                       ...      ...            ...\n",
       "2722146  Magallanes y de la Antártica Chilena       12              1\n",
       "2722148             Metropolitana de Santiago       12              1\n",
       "2722198                              Los Ríos       12              0\n",
       "2722205                    Arica y Parinacota       12              1\n",
       "2722208                                 Ñuble       12              1\n",
       "\n",
       "[192 rows x 3 columns]"
      ]
     },
     "execution_count": 100,
     "metadata": {},
     "output_type": "execute_result"
    }
   ],
   "source": [
    "df_region_temp = df.drop(['CUT Comuna Origen', 'Comuna Origen', 'CUT Provincia Origen',\n",
    "       'Provincia Origen', 'CUT Region Origen', 'Region Origen',\n",
    "       'CUT Comuna Destino', 'Comuna Destino', 'CUT Destino Turistico',\n",
    "       'Destino Turistico', 'CUT Provincia Destino', 'Provincia Destino',\n",
    "       'CUT Region Destino', 'Anio', 'Mes',\n",
    "       'Viajes Ocasionales', 'Temporada', 'PIB Region Origen',\n",
    "       'PIB Region Destino', 'Norte a Sur Origen', 'Norte a Sur Destino'],axis=1)\n",
    "\n",
    "df_region_temp.drop_duplicates(inplace=True)\n",
    "df_region_temp.duplicated().sum()\n",
    "\n",
    "df_region_temp"
   ]
  },
  {
   "cell_type": "code",
   "execution_count": 101,
   "metadata": {},
   "outputs": [
    {
     "name": "stdout",
     "output_type": "stream",
     "text": [
      "Diccionario guardado correctamente\n"
     ]
    }
   ],
   "source": [
    "import pandas as pd\n",
    "import json\n",
    "\n",
    "region_mes_dict = pd.Series(df_region_temp['CUT Temporada'].values, \n",
    "                            index=[df_region_temp['Region Destino'], df_region_temp['CUT Mes']]).to_dict()\n",
    "\n",
    "# Convertir las claves (tuplas) a cadenas para que puedan ser almacenadas correctamente en el archivo JSON\n",
    "region_mes_dict_str_keys = {f\"({region}, {mes})\": temp for (region, mes), temp in region_mes_dict.items()}\n",
    "\n",
    "# Guardar el diccionario con claves en formato cadena\n",
    "with open('../data/processed/region_temp_dict.json', 'w', encoding='utf-8') as f:\n",
    "    json.dump(region_mes_dict_str_keys, f, ensure_ascii=False, indent=4)\n",
    "\n",
    "print(\"Diccionario guardado correctamente\")"
   ]
  },
  {
   "cell_type": "code",
   "execution_count": 102,
   "metadata": {},
   "outputs": [
    {
     "name": "stdout",
     "output_type": "stream",
     "text": [
      "La temporada para la combinación (Antofagasta, 1) es: 1\n"
     ]
    }
   ],
   "source": [
    "import json\n",
    "\n",
    "# Función para consultar la temporada a partir de la región y mes\n",
    "def consultar_temporada(region, mes, archivo_json='../data/processed/region_temp_dict.json'):\n",
    "    # Cargar el diccionario desde el archivo JSON\n",
    "    try:\n",
    "        with open(archivo_json, 'r', encoding='utf-8') as f:\n",
    "            region_mes_dict_str_keys = json.load(f)\n",
    "        \n",
    "        # Crear la clave en formato cadena\n",
    "        clave_str = f\"({region}, {mes})\"\n",
    "        \n",
    "        # Consultar la temporada usando la clave\n",
    "        temporada = region_mes_dict_str_keys.get(clave_str, \"No disponible\")\n",
    "        \n",
    "        return temporada\n",
    "    \n",
    "    except FileNotFoundError:\n",
    "        return \"El archivo JSON no se encuentra en la ubicación especificada.\"\n",
    "    except json.JSONDecodeError:\n",
    "        return \"Error al leer el archivo JSON.\"\n",
    "    except Exception as e:\n",
    "        return f\"Error inesperado: {str(e)}\"\n",
    "\n",
    "# Ejemplo de uso de la función\n",
    "region = 'Antofagasta'\n",
    "mes = 1\n",
    "temporada = consultar_temporada(region, mes)\n",
    "print(f\"La temporada para la combinación ({region}, {mes}) es: {temporada}\")\n"
   ]
  },
  {
   "cell_type": "code",
   "execution_count": 103,
   "metadata": {},
   "outputs": [
    {
     "data": {
      "text/plain": [
       "Index(['CUT Comuna Origen', 'Comuna Origen', 'CUT Provincia Origen',\n",
       "       'Provincia Origen', 'CUT Region Origen', 'Region Origen',\n",
       "       'CUT Comuna Destino', 'Comuna Destino', 'CUT Destino Turistico',\n",
       "       'Destino Turistico', 'CUT Provincia Destino', 'Provincia Destino',\n",
       "       'CUT Region Destino', 'Region Destino', 'Anio', 'CUT Mes', 'Mes',\n",
       "       'Viajes Ocasionales', 'CUT Temporada', 'Temporada', 'PIB Region Origen',\n",
       "       'PIB Region Destino', 'Norte a Sur Origen', 'Norte a Sur Destino'],\n",
       "      dtype='object')"
      ]
     },
     "execution_count": 103,
     "metadata": {},
     "output_type": "execute_result"
    }
   ],
   "source": [
    "df.columns"
   ]
  },
  {
   "cell_type": "code",
   "execution_count": 104,
   "metadata": {},
   "outputs": [
    {
     "name": "stdout",
     "output_type": "stream",
     "text": [
      "{'Tarapacá': 1261.026700336, 'Antofagasta': 4184.3948666182, 'Atacama': 1000.0075539992, 'Coquimbo': 1607.8444038591, 'Valparaíso': 3716.7286641897, \"Libertador Gral. Bernardo O'Higgins\": 1917.1387029225, 'Maule': 1994.7662761091, 'Biobío': 3290.0394217733, 'La Araucanía': 1496.0309655501, 'Los Lagos': 1744.9921862767, 'Aysén del General Carlos Ibáñez del Campo': 301.53773380697, 'Magallanes y de la Antártica Chilena': 475.58907175431, 'Metropolitana de Santiago': 21484.966716559, 'Los Ríos': 678.84503594182, 'Arica y Parinacota': 403.39379746479, 'Ñuble': 801.7971973821}\n"
     ]
    }
   ],
   "source": [
    "df_region_pib = df.drop(['CUT Comuna Origen', 'Comuna Origen', 'CUT Provincia Origen',\n",
    "       'Provincia Origen', 'CUT Region Origen',\n",
    "       'CUT Comuna Destino', 'Comuna Destino', 'CUT Destino Turistico',\n",
    "       'Destino Turistico', 'CUT Provincia Destino', 'Provincia Destino',\n",
    "       'CUT Region Destino', 'Region Destino', 'Mes',\n",
    "       'Viajes Ocasionales', 'CUT Temporada', 'Temporada',\n",
    "       'PIB Region Destino', 'Norte a Sur Origen', 'Norte a Sur Destino'],axis=1)\n",
    "\n",
    "df_region_pib.drop_duplicates(inplace=True)\n",
    "\n",
    "df_region_pib = df_region_pib[(df_region_pib['Anio']== 2024)&(df_region_pib['CUT Mes']==6)]\n",
    "df_region_pib = df_region_pib.drop(['Anio','CUT Mes'],axis=1)\n",
    "\n",
    "region_pib_dict = pd.Series(df_region_pib['PIB Region Origen'].values, index=df_region_pib['Region Origen']).to_dict()\n",
    "\n",
    "print(region_pib_dict)\n",
    "\n",
    "with open('../data/processed/region_pib_dict.json', 'w', encoding='utf-8') as f:\n",
    "    json.dump(region_pib_dict, f, ensure_ascii=False, indent=4)"
   ]
  },
  {
   "cell_type": "code",
   "execution_count": 105,
   "metadata": {},
   "outputs": [
    {
     "data": {
      "text/plain": [
       "21484.966716559"
      ]
     },
     "execution_count": 105,
     "metadata": {},
     "output_type": "execute_result"
    }
   ],
   "source": [
    "region_pib_dict.get('Metropolitana de Santiago', \"Región no encontrada\")"
   ]
  },
  {
   "cell_type": "code",
   "execution_count": 106,
   "metadata": {},
   "outputs": [
    {
     "data": {
      "text/plain": [
       "Index(['CUT Comuna Origen', 'Comuna Origen', 'CUT Provincia Origen',\n",
       "       'Provincia Origen', 'CUT Region Origen', 'Region Origen',\n",
       "       'CUT Comuna Destino', 'Comuna Destino', 'CUT Destino Turistico',\n",
       "       'Destino Turistico', 'CUT Provincia Destino', 'Provincia Destino',\n",
       "       'CUT Region Destino', 'Region Destino', 'Anio', 'CUT Mes', 'Mes',\n",
       "       'Viajes Ocasionales', 'CUT Temporada', 'Temporada', 'PIB Region Origen',\n",
       "       'PIB Region Destino', 'Norte a Sur Origen', 'Norte a Sur Destino'],\n",
       "      dtype='object')"
      ]
     },
     "execution_count": 106,
     "metadata": {},
     "output_type": "execute_result"
    }
   ],
   "source": [
    "df.columns"
   ]
  },
  {
   "cell_type": "code",
   "execution_count": 111,
   "metadata": {},
   "outputs": [
    {
     "name": "stdout",
     "output_type": "stream",
     "text": [
      "{'Iquique': 1101, 'Alto Hospicio': 1107, 'Pozo Almonte': 1401, 'Camiña': 1402, 'Colchane': 1403, 'Huara': 1404, 'Pica': 1405, 'Antofagasta': 2101, 'Mejillones': 2102, 'Sierra Gorda': 2103, 'Taltal': 2104, 'Calama': 2201, 'Ollagüe': 2202, 'San Pedro de Atacama': 2203, 'Tocopilla': 2301, 'María Elena': 2302, 'Copiapó': 3101, 'Caldera': 3102, 'Tierra Amarilla': 3103, 'Chañaral': 3201, 'Diego de Almagro': 3202, 'Vallenar': 3301, 'Alto del Carmen': 3302, 'Freirina': 3303, 'Huasco': 3304, 'La Serena': 4101, 'Coquimbo': 4102, 'Andacollo': 4103, 'La Higuera': 4104, 'Paiguano': 4105, 'Vicuña': 4106, 'Illapel': 4201, 'Canela': 4202, 'Los Vilos': 4203, 'Salamanca': 4204, 'Ovalle': 4301, 'Combarbalá': 4302, 'Monte Patria': 4303, 'Punitaqui': 4304, 'Río Hurtado': 4305, 'Valparaíso': 5101, 'Casablanca': 5102, 'Concón': 5103, 'Juan Fernández': 5104, 'Puchuncaví': 5105, 'Quintero': 5107, 'Viña del Mar': 5109, 'Isla de Pascua': 5201, 'Los Andes': 5301, 'Calle Larga': 5302, 'Rinconada': 5303, 'San Esteban': 5304, 'La Ligua': 5401, 'Cabildo': 5402, 'Papudo': 5403, 'Petorca': 5404, 'Zapallar': 5405, 'Quillota': 5501, 'Calera': 5502, 'Hijuelas': 5503, 'La Cruz': 5504, 'Nogales': 5506, 'San Antonio': 5601, 'Algarrobo': 5602, 'Cartagena': 5603, 'El Quisco': 5604, 'El Tabo': 5605, 'Santo Domingo': 5606, 'San Felipe': 5701, 'Catemu': 5702, 'Llaillay': 5703, 'Panquehue': 5704, 'Putaendo': 5705, 'Santa María': 5706, 'Quilpué': 5801, 'Limache': 5802, 'Olmué': 5803, 'Villa Alemana': 5804, 'Rancagua': 6101, 'Codegua': 6102, 'Coinco': 6103, 'Coltauco': 6104, 'Doñihue': 6105, 'Graneros': 6106, 'Las Cabras': 6107, 'Machalí': 6108, 'Malloa': 6109, 'Mostazal': 6110, 'Olivar': 6111, 'Peumo': 6112, 'Pichidegua': 6113, 'Quinta de Tilcoco': 6114, 'Rengo': 6115, 'Requínoa': 6116, 'San Vicente': 6117, 'Pichilemu': 6201, 'La Estrella': 6202, 'Litueche': 6203, 'Marchihue': 6204, 'Navidad': 6205, 'Paredones': 6206, 'San Fernando': 6301, 'Chépica': 6302, 'Chimbarongo': 6303, 'Lolol': 6304, 'Nancagua': 6305, 'Palmilla': 6306, 'Peralillo': 6307, 'Placilla': 6308, 'Pumanque': 6309, 'Santa Cruz': 6310, 'Talca': 7101, 'Constitución': 7102, 'Curepto': 7103, 'Empedrado': 7104, 'Maule': 7105, 'Pelarco': 7106, 'Pencahue': 7107, 'Río Claro': 7108, 'San Clemente': 7109, 'San Rafael': 7110, 'Cauquenes': 7201, 'Chanco': 7202, 'Pelluhue': 7203, 'Curicó': 7301, 'Hualañé': 7302, 'Licantén': 7303, 'Molina': 7304, 'Rauco': 7305, 'Romeral': 7306, 'Sagrada Familia': 7307, 'Teno': 7308, 'Vichuquén': 7309, 'Linares': 7401, 'Colbún': 7402, 'Longaví': 7403, 'Parral': 7404, 'Retiro': 7405, 'San Javier': 7406, 'Villa Alegre': 7407, 'Yerbas Buenas': 7408, 'Concepción': 8101, 'Coronel': 8102, 'Chiguayante': 8103, 'Florida': 8104, 'Hualqui': 8105, 'Lota': 8106, 'Penco': 8107, 'San Pedro de la Paz': 8108, 'Santa Juana': 8109, 'Talcahuano': 8110, 'Tomé': 8111, 'Hualpén': 8112, 'Lebu': 8201, 'Arauco': 8202, 'Cañete': 8203, 'Contulmo': 8204, 'Curanilahue': 8205, 'Los Alamos': 8206, 'Tirúa': 8207, 'Los Angeles': 8301, 'Antuco': 8302, 'Cabrero': 8303, 'Laja': 8304, 'Mulchén': 8305, 'Nacimiento': 8306, 'Negrete': 8307, 'Quilaco': 8308, 'Quilleco': 8309, 'San Rosendo': 8310, 'Santa Bárbara': 8311, 'Tucapel': 8312, 'Yumbel': 8313, 'Alto Biobío': 8314, 'Temuco': 9101, 'Carahue': 9102, 'Cunco': 9103, 'Curarrehue': 9104, 'Freire': 9105, 'Galvarino': 9106, 'Gorbea': 9107, 'Lautaro': 9108, 'Loncoche': 9109, 'Melipeuco': 9110, 'Nueva Imperial': 9111, 'Padre Las Casas': 9112, 'Perquenco': 9113, 'Pitrufquén': 9114, 'Pucón': 9115, 'Saavedra': 9116, 'Teodoro Schmidt': 9117, 'Toltén': 9118, 'Vilcún': 9119, 'Villarrica': 9120, 'Cholchol': 9121, 'Angol': 9201, 'Collipulli': 9202, 'Curacautín': 9203, 'Ercilla': 9204, 'Lonquimay': 9205, 'Los Sauces': 9206, 'Lumaco': 9207, 'Purén': 9208, 'Renaico': 9209, 'Traiguén': 9210, 'Victoria': 9211, 'Puerto Montt': 10101, 'Calbuco': 10102, 'Cochamó': 10103, 'Fresia': 10104, 'Frutillar': 10105, 'Los Muermos': 10106, 'Llanquihue': 10107, 'Maullín': 10108, 'Puerto Varas': 10109, 'Castro': 10201, 'Ancud': 10202, 'Chonchi': 10203, 'Curaco de Vélez': 10204, 'Dalcahue': 10205, 'Puqueldón': 10206, 'Queilén': 10207, 'Quellón': 10208, 'Quemchi': 10209, 'Quinchao': 10210, 'Osorno': 10301, 'Puerto Octay': 10302, 'Purranque': 10303, 'Puyehue': 10304, 'Río Negro': 10305, 'San Juan de la Costa': 10306, 'San Pablo': 10307, 'Chaitén': 10401, 'Futaleufú': 10402, 'Hualaihué': 10403, 'Palena': 10404, 'Coihaique': 11101, 'Lago Verde': 11102, 'Aisén': 11201, 'Cisnes': 11202, 'Guaitecas': 11203, 'Cochrane': 11301, \"O'Higgins\": 11302, 'Tortel': 11303, 'Chile Chico': 11401, 'Río Ibáñez': 11402, 'Punta Arenas': 12101, 'Laguna Blanca': 12102, 'Río Verde': 12103, 'San Gregorio': 12104, 'Cabo de Hornos': 12201, 'Porvenir': 12301, 'Primavera': 12302, 'Timaukel': 12303, 'Natales': 12401, 'Torres del Paine': 12402, 'Santiago': 13101, 'Cerrillos': 13102, 'Cerro Navia': 13103, 'Conchalí': 13104, 'El Bosque': 13105, 'Estación Central': 13106, 'Huechuraba': 13107, 'Independencia': 13108, 'La Cisterna': 13109, 'La Florida': 13110, 'La Granja': 13111, 'La Pintana': 13112, 'La Reina': 13113, 'Las Condes': 13114, 'Lo Barnechea': 13115, 'Lo Espejo': 13116, 'Lo Prado': 13117, 'Macul': 13118, 'Maipú': 13119, 'Ñuñoa': 13120, 'Pedro Aguirre Cerda': 13121, 'Peñalolén': 13122, 'Providencia': 13123, 'Pudahuel': 13124, 'Quilicura': 13125, 'Quinta Normal': 13126, 'Recoleta': 13127, 'Renca': 13128, 'San Joaquín': 13129, 'San Miguel': 13130, 'San Ramón': 13131, 'Vitacura': 13132, 'Puente Alto': 13201, 'Pirque': 13202, 'San José de Maipo': 13203, 'Colina': 13301, 'Lampa': 13302, 'Tiltil': 13303, 'San Bernardo': 13401, 'Buin': 13402, 'Calera de Tango': 13403, 'Paine': 13404, 'Melipilla': 13501, 'Alhué': 13502, 'Curacaví': 13503, 'María Pinto': 13504, 'San Pedro': 13505, 'Talagante': 13601, 'El Monte': 13602, 'Isla de Maipo': 13603, 'Padre Hurtado': 13604, 'Peñaflor': 13605, 'Valdivia': 14101, 'Corral': 14102, 'Lanco': 14103, 'Los Lagos': 14104, 'Máfil': 14105, 'Mariquina': 14106, 'Paillaco': 14107, 'Panguipulli': 14108, 'La Unión': 14201, 'Futrono': 14202, 'Lago Ranco': 14203, 'Río Bueno': 14204, 'Arica': 15101, 'Camarones': 15102, 'Putre': 15201, 'General Lagos': 15202, 'Chillán': 16101, 'Bulnes': 16102, 'Chillán Viejo': 16103, 'El Carmen': 16104, 'Pemuco': 16105, 'Pinto': 16106, 'Quillón': 16107, 'San Ignacio': 16108, 'Yungay': 16109, 'Quirihue': 16201, 'Cobquecura': 16202, 'Coelemu': 16203, 'Ninhue': 16204, 'Portezuelo': 16205, 'Ranquil': 16206, 'Treguaco': 16207, 'San Carlos': 16301, 'Coihueco': 16302, 'Ñiquén': 16303, 'San Fabián': 16304, 'San Nicolás': 16305}\n"
     ]
    }
   ],
   "source": [
    "df_cut_comunas = df.drop(['CUT Provincia Origen',\n",
    "       'Provincia Origen', 'CUT Region Origen', 'Region Origen',\n",
    "       'CUT Comuna Destino', 'Comuna Destino', 'CUT Destino Turistico',\n",
    "       'Destino Turistico', 'CUT Provincia Destino', 'Provincia Destino',\n",
    "       'CUT Region Destino', 'Region Destino', 'Anio', 'CUT Mes', 'Mes',\n",
    "       'Viajes Ocasionales', 'CUT Temporada', 'Temporada', 'PIB Region Origen',\n",
    "       'PIB Region Destino', 'Norte a Sur Origen', 'Norte a Sur Destino'],axis=1)\n",
    "\n",
    "df_cut_comunas.drop_duplicates(inplace=True)\n",
    "\n",
    "cut_comunas_dict = pd.Series(df_cut_comunas['CUT Comuna Origen'].values, index=df_cut_comunas['Comuna Origen']).to_dict()\n",
    "\n",
    "print(cut_comunas_dict)\n",
    "\n",
    "with open('../data/processed/cut_comuna_dict.json', 'w', encoding='utf-8') as f:\n",
    "    json.dump(cut_comunas_dict, f, ensure_ascii=False, indent=4)"
   ]
  },
  {
   "cell_type": "code",
   "execution_count": 110,
   "metadata": {},
   "outputs": [
    {
     "name": "stdout",
     "output_type": "stream",
     "text": [
      "{'Iquique': 11, 'Tamarugal': 14, 'Antofagasta': 21, 'El Loa': 22, 'Tocopilla': 23, 'Copiapó': 31, 'Chañaral': 32, 'Huasco': 33, 'Elqui': 41, 'Choapa': 42, 'Limarí': 43, 'Valparaíso': 51, 'Isla de Pascua': 52, 'Los Andes': 53, 'Petorca': 54, 'Quillota': 55, 'San Antonio': 56, 'San Felipe de Aconcagua': 57, 'Marga Marga': 58, 'Cachapoal': 61, 'Cardenal Caro': 62, 'Colchagua': 63, 'Talca': 71, 'Cauquenes': 72, 'Curicó': 73, 'Linares': 74, 'Concepción': 81, 'Arauco': 82, 'Biobío': 83, 'Cautín': 91, 'Malleco': 92, 'Llanquihue': 101, 'Chiloé': 102, 'Osorno': 103, 'Palena': 104, 'Coihaique': 111, 'Aysén': 112, 'Capitán Prat': 113, 'General Carrera': 114, 'Magallanes': 121, 'Antártica Chilena': 122, 'Tierra del Fuego': 123, 'Ultima Esperanza': 124, 'Santiago': 131, 'Cordillera': 132, 'Chacabuco': 133, 'Maipo': 134, 'Melipilla': 135, 'Talagante': 136, 'Valdivia': 141, 'Ranco': 142, 'Arica': 151, 'Parinacota': 152, 'Diguillin': 161, 'Itata': 162, 'Punilla': 163}\n"
     ]
    }
   ],
   "source": [
    "df_cut_provincias = df.drop(['CUT Comuna Origen', 'Comuna Origen', 'CUT Region Origen', 'Region Origen',\n",
    "       'CUT Comuna Destino', 'Comuna Destino', 'CUT Destino Turistico',\n",
    "       'Destino Turistico', 'CUT Provincia Destino', 'Provincia Destino',\n",
    "       'CUT Region Destino', 'Region Destino', 'Anio', 'CUT Mes', 'Mes',\n",
    "       'Viajes Ocasionales', 'CUT Temporada', 'Temporada', 'PIB Region Origen',\n",
    "       'PIB Region Destino', 'Norte a Sur Origen', 'Norte a Sur Destino'],axis=1)\n",
    "\n",
    "df_cut_provincias.drop_duplicates(inplace=True)\n",
    "\n",
    "cut_provincia_dict = pd.Series(df_cut_provincias['CUT Provincia Origen'].values, index=df_cut_provincias['Provincia Origen']).to_dict()\n",
    "\n",
    "print(cut_provincia_dict)\n",
    "\n",
    "with open('../data/processed/cut_provincia_dict.json', 'w', encoding='utf-8') as f:\n",
    "    json.dump(cut_provincia_dict, f, ensure_ascii=False, indent=4)"
   ]
  },
  {
   "cell_type": "code",
   "execution_count": 109,
   "metadata": {},
   "outputs": [
    {
     "name": "stdout",
     "output_type": "stream",
     "text": [
      "{'Tarapacá': 1, 'Antofagasta': 2, 'Atacama': 3, 'Coquimbo': 4, 'Valparaíso': 5, \"Libertador Gral. Bernardo O'Higgins\": 6, 'Maule': 7, 'Biobío': 8, 'La Araucanía': 9, 'Los Lagos': 10, 'Aysén del General Carlos Ibáñez del Campo': 11, 'Magallanes y de la Antártica Chilena': 12, 'Metropolitana de Santiago': 13, 'Los Ríos': 14, 'Arica y Parinacota': 15, 'Ñuble': 16}\n"
     ]
    }
   ],
   "source": [
    "df_cut_regiones = df.drop(['CUT Comuna Origen', 'Comuna Origen', 'CUT Provincia Origen',\n",
    "       'Provincia Origen',\n",
    "       'CUT Comuna Destino', 'Comuna Destino', 'CUT Destino Turistico',\n",
    "       'Destino Turistico', 'CUT Provincia Destino', 'Provincia Destino',\n",
    "       'CUT Region Destino', 'Region Destino', 'Anio', 'CUT Mes', 'Mes',\n",
    "       'Viajes Ocasionales', 'CUT Temporada', 'Temporada', 'PIB Region Origen',\n",
    "       'PIB Region Destino', 'Norte a Sur Origen', 'Norte a Sur Destino'],axis=1)\n",
    "\n",
    "df_cut_regiones.drop_duplicates(inplace=True)\n",
    "\n",
    "cut_region_dict = pd.Series(df_cut_regiones['CUT Region Origen'].values, index=df_cut_regiones['Region Origen']).to_dict()\n",
    "\n",
    "print(cut_region_dict)\n",
    "\n",
    "with open('../data/processed/cut_region_dict.json', 'w', encoding='utf-8') as f:\n",
    "    json.dump(cut_region_dict, f, ensure_ascii=False, indent=4)"
   ]
  },
  {
   "cell_type": "code",
   "execution_count": 112,
   "metadata": {},
   "outputs": [
    {
     "data": {
      "text/plain": [
       "2101"
      ]
     },
     "execution_count": 112,
     "metadata": {},
     "output_type": "execute_result"
    }
   ],
   "source": [
    "def buscar_cut(diccionario, entidad):\n",
    "    resultado = diccionario.get(entidad, \"La entidad no fue encontrada en el diccionario.\")\n",
    "    return resultado\n",
    "\n",
    "buscar_cut(cut_comunas_dict, 'Antofagasta')"
   ]
  }
 ],
 "metadata": {
  "kernelspec": {
   "display_name": ".venv",
   "language": "python",
   "name": "python3"
  },
  "language_info": {
   "codemirror_mode": {
    "name": "ipython",
    "version": 3
   },
   "file_extension": ".py",
   "mimetype": "text/x-python",
   "name": "python",
   "nbconvert_exporter": "python",
   "pygments_lexer": "ipython3",
   "version": "3.11.3"
  }
 },
 "nbformat": 4,
 "nbformat_minor": 2
}
